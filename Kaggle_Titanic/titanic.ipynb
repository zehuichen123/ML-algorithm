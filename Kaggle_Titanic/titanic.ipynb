{
  "nbformat": 4,
  "nbformat_minor": 0,
  "metadata": {
    "colab": {
      "name": "titanic.ipynb",
      "version": "0.3.2",
      "views": {},
      "default_view": {},
      "provenance": []
    },
    "kernelspec": {
      "name": "python3",
      "display_name": "Python 3"
    }
  },
  "cells": [
    {
      "metadata": {
        "id": "WFFMzanqE00M",
        "colab_type": "text"
      },
      "cell_type": "markdown",
      "source": [
        "# A Simple Kaggle Tutorial"
      ]
    },
    {
      "metadata": {
        "id": "TEZOsU3aEgLc",
        "colab_type": "code",
        "colab": {
          "autoexec": {
            "startup": false,
            "wait_interval": 0
          },
          "base_uri": "https://localhost:8080/",
          "height": 290
        },
        "outputId": "42519435-1ae4-43b2-d2c7-48b64244e9c1",
        "executionInfo": {
          "status": "ok",
          "timestamp": 1531373053825,
          "user_tz": -480,
          "elapsed": 3843,
          "user": {
            "displayName": "陈泽徽",
            "photoUrl": "//lh3.googleusercontent.com/-wl3LiLjuCaA/AAAAAAAAAAI/AAAAAAAAAD8/O_IErCiDOSQ/s50-c-k-no/photo.jpg",
            "userId": "106389143329937092753"
          }
        }
      },
      "cell_type": "code",
      "source": [
        "!wget lovesnowbest.site/titanic.zip"
      ],
      "execution_count": 1,
      "outputs": [
        {
          "output_type": "stream",
          "text": [
            "--2018-07-12 05:24:11--  http://lovesnowbest.site/titanic.zip\n",
            "Resolving lovesnowbest.site (lovesnowbest.site)... 23.91.101.102, 107.150.125.7, 23.91.96.169, ...\n",
            "Connecting to lovesnowbest.site (lovesnowbest.site)|23.91.101.102|:80... connected.\n",
            "HTTP request sent, awaiting response... 301 Moved Permanently\n",
            "Location: https://lovesnowbest.site/titanic.zip [following]\n",
            "--2018-07-12 05:24:12--  https://lovesnowbest.site/titanic.zip\n",
            "Connecting to lovesnowbest.site (lovesnowbest.site)|23.91.101.102|:443... connected.\n",
            "HTTP request sent, awaiting response... 200 OK\n",
            "Length: 35973 (35K) [application/zip]\n",
            "Saving to: ‘titanic.zip’\n",
            "\n",
            "titanic.zip         100%[===================>]  35.13K   230KB/s    in 0.2s    \n",
            "\n",
            "2018-07-12 05:24:13 (230 KB/s) - ‘titanic.zip’ saved [35973/35973]\n",
            "\n"
          ],
          "name": "stdout"
        }
      ]
    },
    {
      "metadata": {
        "id": "ZYUUYpPCEmNB",
        "colab_type": "code",
        "colab": {
          "autoexec": {
            "startup": false,
            "wait_interval": 0
          },
          "base_uri": "https://localhost:8080/",
          "height": 199
        },
        "outputId": "6e7f7127-a962-4044-fedb-1e6fb00a6cba",
        "executionInfo": {
          "status": "ok",
          "timestamp": 1531373056001,
          "user_tz": -480,
          "elapsed": 1971,
          "user": {
            "displayName": "陈泽徽",
            "photoUrl": "//lh3.googleusercontent.com/-wl3LiLjuCaA/AAAAAAAAAAI/AAAAAAAAAD8/O_IErCiDOSQ/s50-c-k-no/photo.jpg",
            "userId": "106389143329937092753"
          }
        }
      },
      "cell_type": "code",
      "source": [
        "!unzip titanic.zip"
      ],
      "execution_count": 2,
      "outputs": [
        {
          "output_type": "stream",
          "text": [
            "Archive:  titanic.zip\r\n",
            "   creating: Titanic/\r\n",
            "  inflating: Titanic/.DS_Store       \r\n",
            "   creating: __MACOSX/\r\n",
            "   creating: __MACOSX/Titanic/\r\n",
            "  inflating: __MACOSX/Titanic/._.DS_Store  \r\n",
            "  inflating: Titanic/test.csv        \r\n",
            "  inflating: __MACOSX/Titanic/._test.csv  \r\n",
            "  inflating: Titanic/train.csv       \r\n",
            "  inflating: __MACOSX/Titanic/._train.csv  \r\n"
          ],
          "name": "stdout"
        }
      ]
    },
    {
      "metadata": {
        "id": "UP4suKsCEqXB",
        "colab_type": "code",
        "colab": {
          "autoexec": {
            "startup": false,
            "wait_interval": 0
          },
          "base_uri": "https://localhost:8080/",
          "height": 35
        },
        "outputId": "8fc7363b-e3b4-4d1d-ada5-20a0f7a382d0",
        "executionInfo": {
          "status": "ok",
          "timestamp": 1531373057340,
          "user_tz": -480,
          "elapsed": 1307,
          "user": {
            "displayName": "陈泽徽",
            "photoUrl": "//lh3.googleusercontent.com/-wl3LiLjuCaA/AAAAAAAAAAI/AAAAAAAAAD8/O_IErCiDOSQ/s50-c-k-no/photo.jpg",
            "userId": "106389143329937092753"
          }
        }
      },
      "cell_type": "code",
      "source": [
        "cd Titanic"
      ],
      "execution_count": 3,
      "outputs": [
        {
          "output_type": "stream",
          "text": [
            "/content/Titanic\n"
          ],
          "name": "stdout"
        }
      ]
    },
    {
      "metadata": {
        "id": "o-vvDfawNeCB",
        "colab_type": "code",
        "colab": {
          "autoexec": {
            "startup": false,
            "wait_interval": 0
          }
        }
      },
      "cell_type": "code",
      "source": [
        "# import tools you need: scikit-learn, pandas, numpy\n",
        "# there are some other libraries: lightgbm, xgboost, tensorflow\n",
        "import pandas as pd\n",
        "import numpy as np\n",
        "from sklearn.feature_extraction import DictVectorizer\n",
        "from sklearn.tree import DecisionTreeClassifier\n",
        "from sklearn.feature_selection import SelectPercentile,chi2,f_regression\n",
        "from sklearn.ensemble import RandomForestClassifier, AdaBoostClassifier, GradientBoostingClassifier, ExtraTreesClassifier\n",
        "from sklearn.svm import SVC"
      ],
      "execution_count": 0,
      "outputs": []
    },
    {
      "metadata": {
        "id": "tcNMIE0-Q9s3",
        "colab_type": "code",
        "colab": {
          "autoexec": {
            "startup": false,
            "wait_interval": 0
          }
        }
      },
      "cell_type": "code",
      "source": [
        "# read your data from files\n",
        "rawData=pd.read_csv('train.csv')\n",
        "testData=pd.read_csv('test.csv')"
      ],
      "execution_count": 0,
      "outputs": []
    },
    {
      "metadata": {
        "id": "iQKeyTmL-NlU",
        "colab_type": "code",
        "colab": {
          "autoexec": {
            "startup": false,
            "wait_interval": 0
          },
          "base_uri": "https://localhost:8080/",
          "height": 108
        },
        "outputId": "a0137c03-728e-4b16-9382-88b9753ddee2",
        "executionInfo": {
          "status": "ok",
          "timestamp": 1531373811305,
          "user_tz": -480,
          "elapsed": 1056,
          "user": {
            "displayName": "陈泽徽",
            "photoUrl": "//lh3.googleusercontent.com/-wl3LiLjuCaA/AAAAAAAAAAI/AAAAAAAAAD8/O_IErCiDOSQ/s50-c-k-no/photo.jpg",
            "userId": "106389143329937092753"
          }
        }
      },
      "cell_type": "code",
      "source": [
        "# Feature Engineering\n",
        "# Usually based on your background knowledge or your inner view on dataset \n",
        "rawData['Family'] = rawData[\"Parch\"] + rawData[\"SibSp\"]\n",
        "rawData['Family'].loc[rawData['Family'] > 0] = 1\n",
        "rawData['Family'].loc[rawData['Family'] == 0] = 0\n",
        "\n",
        "testData['Family'] = testData[\"Parch\"] + testData[\"SibSp\"]\n",
        "testData['Family'].loc[testData['Family'] > 0] = 1\n",
        "testData['Family'].loc[testData['Family'] == 0] = 0\n",
        "\n",
        "rawData = rawData.drop(['SibSp','Parch'], axis=1)\n",
        "testData = testData.drop(['SibSp','Parch'], axis=1)"
      ],
      "execution_count": 12,
      "outputs": [
        {
          "output_type": "stream",
          "text": [
            "/usr/local/lib/python3.6/dist-packages/pandas/core/indexing.py:194: SettingWithCopyWarning: \n",
            "A value is trying to be set on a copy of a slice from a DataFrame\n",
            "\n",
            "See the caveats in the documentation: http://pandas.pydata.org/pandas-docs/stable/indexing.html#indexing-view-versus-copy\n",
            "  self._setitem_with_indexer(indexer, value)\n"
          ],
          "name": "stderr"
        }
      ]
    },
    {
      "metadata": {
        "id": "vD07mNvsRDeM",
        "colab_type": "code",
        "colab": {
          "autoexec": {
            "startup": false,
            "wait_interval": 0
          }
        }
      },
      "cell_type": "code",
      "source": [
        "# First split the dataset rawData into two part: X and y(survived 0/1).\n",
        "# Feature `name` seems useless for our prediction, just drop it out.\n",
        "y = rawData['Survived']\n",
        "X = rawData.drop(['PassengerId','Survived','Name'],axis=1)\n",
        "X_test_Id = testData['PassengerId']\n",
        "X_test = testData.drop(['PassengerId','Name'],axis=1)"
      ],
      "execution_count": 0,
      "outputs": []
    },
    {
      "metadata": {
        "id": "pAVkVt0B8n6z",
        "colab_type": "code",
        "colab": {
          "autoexec": {
            "startup": false,
            "wait_interval": 0
          },
          "base_uri": "https://localhost:8080/",
          "height": 198
        },
        "outputId": "fc52307a-bd84-4582-df51-967bea553908",
        "executionInfo": {
          "status": "ok",
          "timestamp": 1531373813241,
          "user_tz": -480,
          "elapsed": 938,
          "user": {
            "displayName": "陈泽徽",
            "photoUrl": "//lh3.googleusercontent.com/-wl3LiLjuCaA/AAAAAAAAAAI/AAAAAAAAAD8/O_IErCiDOSQ/s50-c-k-no/photo.jpg",
            "userId": "106389143329937092753"
          }
        }
      },
      "cell_type": "code",
      "source": [
        "# Handle with Missing Values\n",
        "# first let's have a look at the distribution of missing values\n",
        "total = X.isnull().sum().sort_values(ascending=False)\n",
        "percent = (X.isnull().sum()/X.isnull().count()).sort_values(ascending=False)\n",
        "missing_data = pd.concat([total,percent],axis=1,keys=['Total','Percent'])\n",
        "missing_data.head()"
      ],
      "execution_count": 14,
      "outputs": [
        {
          "output_type": "execute_result",
          "data": {
            "text/html": [
              "<div>\n",
              "<style scoped>\n",
              "    .dataframe tbody tr th:only-of-type {\n",
              "        vertical-align: middle;\n",
              "    }\n",
              "\n",
              "    .dataframe tbody tr th {\n",
              "        vertical-align: top;\n",
              "    }\n",
              "\n",
              "    .dataframe thead th {\n",
              "        text-align: right;\n",
              "    }\n",
              "</style>\n",
              "<table border=\"1\" class=\"dataframe\">\n",
              "  <thead>\n",
              "    <tr style=\"text-align: right;\">\n",
              "      <th></th>\n",
              "      <th>Total</th>\n",
              "      <th>Percent</th>\n",
              "    </tr>\n",
              "  </thead>\n",
              "  <tbody>\n",
              "    <tr>\n",
              "      <th>Cabin</th>\n",
              "      <td>687</td>\n",
              "      <td>0.771044</td>\n",
              "    </tr>\n",
              "    <tr>\n",
              "      <th>Age</th>\n",
              "      <td>177</td>\n",
              "      <td>0.198653</td>\n",
              "    </tr>\n",
              "    <tr>\n",
              "      <th>Embarked</th>\n",
              "      <td>2</td>\n",
              "      <td>0.002245</td>\n",
              "    </tr>\n",
              "    <tr>\n",
              "      <th>Family</th>\n",
              "      <td>0</td>\n",
              "      <td>0.000000</td>\n",
              "    </tr>\n",
              "    <tr>\n",
              "      <th>Fare</th>\n",
              "      <td>0</td>\n",
              "      <td>0.000000</td>\n",
              "    </tr>\n",
              "  </tbody>\n",
              "</table>\n",
              "</div>"
            ],
            "text/plain": [
              "          Total   Percent\n",
              "Cabin       687  0.771044\n",
              "Age         177  0.198653\n",
              "Embarked      2  0.002245\n",
              "Family        0  0.000000\n",
              "Fare          0  0.000000"
            ]
          },
          "metadata": {
            "tags": []
          },
          "execution_count": 14
        }
      ]
    },
    {
      "metadata": {
        "id": "lemo7-ioRFYK",
        "colab_type": "code",
        "colab": {
          "autoexec": {
            "startup": false,
            "wait_interval": 0
          }
        }
      },
      "cell_type": "code",
      "source": [
        "# Handle with NULL value\n",
        "X['Age'].fillna(X['Age'].mean(),inplace=True)\n",
        "X_test['Age'].fillna(X['Age'].mean(),inplace=True)\n",
        "X.fillna('UNKNOWN',inplace=True)\n",
        "X_test.fillna('UNKNOWN',inplace=True)"
      ],
      "execution_count": 0,
      "outputs": []
    },
    {
      "metadata": {
        "id": "JU8PyazaAAjD",
        "colab_type": "code",
        "colab": {
          "autoexec": {
            "startup": false,
            "wait_interval": 0
          },
          "base_uri": "https://localhost:8080/",
          "height": 198
        },
        "outputId": "980c3ed5-0bd3-4644-b24a-7356d308de59",
        "executionInfo": {
          "status": "ok",
          "timestamp": 1531373952108,
          "user_tz": -480,
          "elapsed": 1046,
          "user": {
            "displayName": "陈泽徽",
            "photoUrl": "//lh3.googleusercontent.com/-wl3LiLjuCaA/AAAAAAAAAAI/AAAAAAAAAD8/O_IErCiDOSQ/s50-c-k-no/photo.jpg",
            "userId": "106389143329937092753"
          }
        }
      },
      "cell_type": "code",
      "source": [
        "X.head()"
      ],
      "execution_count": 23,
      "outputs": [
        {
          "output_type": "execute_result",
          "data": {
            "text/html": [
              "<div>\n",
              "<style scoped>\n",
              "    .dataframe tbody tr th:only-of-type {\n",
              "        vertical-align: middle;\n",
              "    }\n",
              "\n",
              "    .dataframe tbody tr th {\n",
              "        vertical-align: top;\n",
              "    }\n",
              "\n",
              "    .dataframe thead th {\n",
              "        text-align: right;\n",
              "    }\n",
              "</style>\n",
              "<table border=\"1\" class=\"dataframe\">\n",
              "  <thead>\n",
              "    <tr style=\"text-align: right;\">\n",
              "      <th></th>\n",
              "      <th>Pclass</th>\n",
              "      <th>Sex</th>\n",
              "      <th>Age</th>\n",
              "      <th>Ticket</th>\n",
              "      <th>Fare</th>\n",
              "      <th>Cabin</th>\n",
              "      <th>Embarked</th>\n",
              "      <th>Family</th>\n",
              "    </tr>\n",
              "  </thead>\n",
              "  <tbody>\n",
              "    <tr>\n",
              "      <th>0</th>\n",
              "      <td>3</td>\n",
              "      <td>male</td>\n",
              "      <td>22.0</td>\n",
              "      <td>A/5 21171</td>\n",
              "      <td>7.2500</td>\n",
              "      <td>UNKNOWN</td>\n",
              "      <td>S</td>\n",
              "      <td>1</td>\n",
              "    </tr>\n",
              "    <tr>\n",
              "      <th>1</th>\n",
              "      <td>1</td>\n",
              "      <td>female</td>\n",
              "      <td>38.0</td>\n",
              "      <td>PC 17599</td>\n",
              "      <td>71.2833</td>\n",
              "      <td>C85</td>\n",
              "      <td>C</td>\n",
              "      <td>1</td>\n",
              "    </tr>\n",
              "    <tr>\n",
              "      <th>2</th>\n",
              "      <td>3</td>\n",
              "      <td>female</td>\n",
              "      <td>26.0</td>\n",
              "      <td>STON/O2. 3101282</td>\n",
              "      <td>7.9250</td>\n",
              "      <td>UNKNOWN</td>\n",
              "      <td>S</td>\n",
              "      <td>0</td>\n",
              "    </tr>\n",
              "    <tr>\n",
              "      <th>3</th>\n",
              "      <td>1</td>\n",
              "      <td>female</td>\n",
              "      <td>35.0</td>\n",
              "      <td>113803</td>\n",
              "      <td>53.1000</td>\n",
              "      <td>C123</td>\n",
              "      <td>S</td>\n",
              "      <td>1</td>\n",
              "    </tr>\n",
              "    <tr>\n",
              "      <th>4</th>\n",
              "      <td>3</td>\n",
              "      <td>male</td>\n",
              "      <td>35.0</td>\n",
              "      <td>373450</td>\n",
              "      <td>8.0500</td>\n",
              "      <td>UNKNOWN</td>\n",
              "      <td>S</td>\n",
              "      <td>0</td>\n",
              "    </tr>\n",
              "  </tbody>\n",
              "</table>\n",
              "</div>"
            ],
            "text/plain": [
              "   Pclass     Sex   Age            Ticket     Fare    Cabin Embarked  Family\n",
              "0       3    male  22.0         A/5 21171   7.2500  UNKNOWN        S       1\n",
              "1       1  female  38.0          PC 17599  71.2833      C85        C       1\n",
              "2       3  female  26.0  STON/O2. 3101282   7.9250  UNKNOWN        S       0\n",
              "3       1  female  35.0            113803  53.1000     C123        S       1\n",
              "4       3    male  35.0            373450   8.0500  UNKNOWN        S       0"
            ]
          },
          "metadata": {
            "tags": []
          },
          "execution_count": 23
        }
      ]
    },
    {
      "metadata": {
        "id": "Wg5e69jVRKYb",
        "colab_type": "code",
        "colab": {
          "autoexec": {
            "startup": false,
            "wait_interval": 0
          }
        }
      },
      "cell_type": "code",
      "source": [
        "# Tackle with categorical features(also the UNKNOWN value)\n",
        "dv = DictVectorizer()\n",
        "X_train = dv.fit_transform(X.to_dict(orient='record'))\n",
        "X_test = dv.transform(X_test.to_dict(orient='record'))"
      ],
      "execution_count": 0,
      "outputs": []
    },
    {
      "metadata": {
        "id": "5dtw5FSRRO6-",
        "colab_type": "code",
        "colab": {
          "autoexec": {
            "startup": false,
            "wait_interval": 0
          }
        }
      },
      "cell_type": "code",
      "source": [
        "# select the best k percentiles features to get a better score\n",
        "sp = SelectPercentile(chi2,percentile=92)\n",
        "X_train_sp = sp.fit_transform(X_train,y)\n",
        "X_test_sp = sp.transform(X_test)"
      ],
      "execution_count": 0,
      "outputs": []
    },
    {
      "metadata": {
        "id": "5Q-OpsT2RQqr",
        "colab_type": "code",
        "colab": {
          "autoexec": {
            "startup": false,
            "wait_interval": 0
          }
        }
      },
      "cell_type": "code",
      "source": [
        "rf_params = {\n",
        "    'n_estimators': 800,\n",
        "    'max_features' : 'sqrt',\n",
        "}\n",
        "rf = RandomForestClassifier(**rf_params)\n",
        "rf.fit(X_train_sp,y)\n",
        "predict_rf = rf.predict(X_test_sp)\n",
        "\n",
        "# Extra Trees Parameters\n",
        "et_params = {\n",
        "    'n_jobs': -1,\n",
        "    'n_estimators':500,\n",
        "    #'max_features': 0.5,\n",
        "    'max_depth': 8,\n",
        "    'min_samples_leaf': 2,\n",
        "    'verbose': 0\n",
        "}\n",
        "et = ExtraTreesClassifier(**et_params)\n",
        "et.fit(X_train_sp,y)\n",
        "predict_et = et.predict(X_test_sp)\n",
        "\n",
        "# AdaBoost parameters\n",
        "ada_params = {\n",
        "    'n_estimators': 800,\n",
        "    'learning_rate' : 0.5\n",
        "}\n",
        "\n",
        "ada = AdaBoostClassifier(**ada_params)\n",
        "ada.fit(X_train_sp,y)\n",
        "predict_ada = ada.predict(X_test_sp)\n",
        "\n",
        "# Gradient Boosting parameters\n",
        "gb_params = {\n",
        "    'n_estimators': 800,\n",
        "     #'max_features': 0.2,\n",
        "    'max_depth': 5,\n",
        "    #'min_samples_leaf': 2,\n",
        "}\n",
        "\n",
        "gb = GradientBoostingClassifier(**gb_params)\n",
        "gb.fit(X_train_sp,y)\n",
        "predict_gb = gb.predict(X_test_sp)\n",
        "\n",
        "# Support Vector Classifier parameters \n",
        "svc_params = {\n",
        "    'kernel' : 'linear',\n",
        "    'C' : 0.025\n",
        "    }\n",
        "svc = SVC(**svc_params)\n",
        "svc.fit(X_train_sp,y)\n",
        "predict_svc = svc.predict(X_test_sp)"
      ],
      "execution_count": 0,
      "outputs": []
    },
    {
      "metadata": {
        "id": "tOOmmU3yRS_2",
        "colab_type": "code",
        "colab": {
          "autoexec": {
            "startup": false,
            "wait_interval": 0
          }
        }
      },
      "cell_type": "code",
      "source": [
        "# ensemble the prediction by all classifiers\n",
        "# you can also use VotingClassifier in sklearn\n",
        "one = np.ones(X_test.shape[0])\n",
        "zero = np.ones(X_test.shape[0])\n",
        "for i,j in enumerate(predict_rf):\n",
        "\tif j == 1:\n",
        "\t\tone[i] += 1\n",
        "\telse:\n",
        "\t\tzero[i] += 1\n",
        "for i,j in enumerate(predict_ada):\n",
        "\tif j == 1:\n",
        "\t\tone[i] += 1\n",
        "\telse:\n",
        "\t\tzero[i] += 1\n",
        "for i,j in enumerate(predict_gb):\n",
        "\tif j == 1:\n",
        "\t\tone[i] += 1\n",
        "\telse:\n",
        "\t\tzero[i] += 1\n",
        "for i,j in enumerate(predict_et):\n",
        "    if j == 1:\n",
        "        one[i] += 1\n",
        "    else:\n",
        "        zero[i] += 1\n",
        "for i,j in enumerate(predict_svc):\n",
        "    if j == 1:\n",
        "        one[i] += 1\n",
        "    else:\n",
        "        zero[i] += 1\n",
        "\n",
        "predict = []\n",
        "for i,j in zip(one,zero):\n",
        "\tif i < j:\n",
        "\t\tpredict.append(0)\n",
        "\telse:\n",
        "\t\tpredict.append(1)\n",
        "\n",
        "predict_pd = pd.DataFrame(predict, columns=['Survived'])"
      ],
      "execution_count": 0,
      "outputs": []
    },
    {
      "metadata": {
        "id": "3KNMscboReNC",
        "colab_type": "code",
        "colab": {
          "autoexec": {
            "startup": false,
            "wait_interval": 0
          }
        }
      },
      "cell_type": "code",
      "source": [
        "final_predict = pd.concat([X_test_Id, predict_pd], axis=1)"
      ],
      "execution_count": 0,
      "outputs": []
    },
    {
      "metadata": {
        "id": "AwB-tKrw_p1N",
        "colab_type": "code",
        "colab": {
          "autoexec": {
            "startup": false,
            "wait_interval": 0
          },
          "base_uri": "https://localhost:8080/",
          "height": 198
        },
        "outputId": "911d0d9e-2b5d-4adc-80f5-1dd06d5682a8",
        "executionInfo": {
          "status": "ok",
          "timestamp": 1531373862705,
          "user_tz": -480,
          "elapsed": 1133,
          "user": {
            "displayName": "陈泽徽",
            "photoUrl": "//lh3.googleusercontent.com/-wl3LiLjuCaA/AAAAAAAAAAI/AAAAAAAAAD8/O_IErCiDOSQ/s50-c-k-no/photo.jpg",
            "userId": "106389143329937092753"
          }
        }
      },
      "cell_type": "code",
      "source": [
        "final_predict.head()"
      ],
      "execution_count": 22,
      "outputs": [
        {
          "output_type": "execute_result",
          "data": {
            "text/html": [
              "<div>\n",
              "<style scoped>\n",
              "    .dataframe tbody tr th:only-of-type {\n",
              "        vertical-align: middle;\n",
              "    }\n",
              "\n",
              "    .dataframe tbody tr th {\n",
              "        vertical-align: top;\n",
              "    }\n",
              "\n",
              "    .dataframe thead th {\n",
              "        text-align: right;\n",
              "    }\n",
              "</style>\n",
              "<table border=\"1\" class=\"dataframe\">\n",
              "  <thead>\n",
              "    <tr style=\"text-align: right;\">\n",
              "      <th></th>\n",
              "      <th>PassengerId</th>\n",
              "      <th>Survived</th>\n",
              "    </tr>\n",
              "  </thead>\n",
              "  <tbody>\n",
              "    <tr>\n",
              "      <th>0</th>\n",
              "      <td>892</td>\n",
              "      <td>0</td>\n",
              "    </tr>\n",
              "    <tr>\n",
              "      <th>1</th>\n",
              "      <td>893</td>\n",
              "      <td>0</td>\n",
              "    </tr>\n",
              "    <tr>\n",
              "      <th>2</th>\n",
              "      <td>894</td>\n",
              "      <td>0</td>\n",
              "    </tr>\n",
              "    <tr>\n",
              "      <th>3</th>\n",
              "      <td>895</td>\n",
              "      <td>0</td>\n",
              "    </tr>\n",
              "    <tr>\n",
              "      <th>4</th>\n",
              "      <td>896</td>\n",
              "      <td>1</td>\n",
              "    </tr>\n",
              "  </tbody>\n",
              "</table>\n",
              "</div>"
            ],
            "text/plain": [
              "   PassengerId  Survived\n",
              "0          892         0\n",
              "1          893         0\n",
              "2          894         0\n",
              "3          895         0\n",
              "4          896         1"
            ]
          },
          "metadata": {
            "tags": []
          },
          "execution_count": 22
        }
      ]
    },
    {
      "metadata": {
        "id": "5Ud7b9WBRn_i",
        "colab_type": "code",
        "colab": {
          "autoexec": {
            "startup": false,
            "wait_interval": 0
          },
          "base_uri": "https://localhost:8080/",
          "height": 17
        },
        "outputId": "64d53306-f6ce-44d8-fa87-d53e1492e6ca",
        "executionInfo": {
          "status": "ok",
          "timestamp": 1531059828263,
          "user_tz": -480,
          "elapsed": 824,
          "user": {
            "displayName": "陈泽徽",
            "photoUrl": "//lh3.googleusercontent.com/-wl3LiLjuCaA/AAAAAAAAAAI/AAAAAAAAAD8/O_IErCiDOSQ/s50-c-k-no/photo.jpg",
            "userId": "106389143329937092753"
          }
        }
      },
      "cell_type": "code",
      "source": [
        "final_predict.to_csv('predict.csv', index=False)"
      ],
      "execution_count": 119,
      "outputs": []
    },
    {
      "metadata": {
        "id": "Uv1ACQd5Rpu5",
        "colab_type": "code",
        "colab": {
          "autoexec": {
            "startup": false,
            "wait_interval": 0
          },
          "base_uri": "https://localhost:8080/",
          "height": 37
        },
        "outputId": "e2b24874-9cd9-457c-e946-3dc4b62ce5d6",
        "executionInfo": {
          "status": "ok",
          "timestamp": 1531059853246,
          "user_tz": -480,
          "elapsed": 3883,
          "user": {
            "displayName": "陈泽徽",
            "photoUrl": "//lh3.googleusercontent.com/-wl3LiLjuCaA/AAAAAAAAAAI/AAAAAAAAAD8/O_IErCiDOSQ/s50-c-k-no/photo.jpg",
            "userId": "106389143329937092753"
          }
        }
      },
      "cell_type": "code",
      "source": [
        "from google.colab import files\n",
        "files.download('predict.csv')\n",
        "# BTW, upload a file to colab: `files.upload()`"
      ],
      "execution_count": 120,
      "outputs": []
    },
    {
      "metadata": {
        "id": "inyuL8QDR0g-",
        "colab_type": "code",
        "colab": {
          "autoexec": {
            "startup": false,
            "wait_interval": 0
          }
        }
      },
      "cell_type": "code",
      "source": [
        ""
      ],
      "execution_count": 0,
      "outputs": []
    }
  ]
}